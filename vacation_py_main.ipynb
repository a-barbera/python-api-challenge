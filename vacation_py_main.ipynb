{
 "cells": [
  {
   "cell_type": "markdown",
   "metadata": {},
   "source": [
    "# VacationPy\n",
    "----\n",
    "\n",
    "#### Note\n",
    "* Keep an eye on your API usage. Use https://developers.google.com/maps/reporting/gmp-reporting as reference for how to monitor your usage and billing.\n",
    "\n",
    "* Instructions have been included for each segment. You do not have to follow them exactly, but they are included to help you think through the steps."
   ]
  },
  {
   "cell_type": "code",
   "execution_count": 1,
   "metadata": {},
   "outputs": [
    {
     "name": "stderr",
     "output_type": "stream",
     "text": [
      "Enabling notebook extension jupyter-js-widgets/extension...\n",
      "      - Validating: ok\n",
      "Enabling notebook extension jupyter-gmaps/extension...\n",
      "      - Validating: ok\n"
     ]
    }
   ],
   "source": [
    "# Dependencies and Setup\n",
    "import matplotlib.pyplot as plt\n",
    "import pandas as pd\n",
    "import numpy as np\n",
    "import requests\n",
    "import gmaps\n",
    "import os\n",
    "\n",
    "!jupyter nbextension enable --py --sys-prefix widgetsnbextension\n",
    "!jupyter nbextension enable --py --sys-prefix gmaps\n",
    "\n",
    "# Import API key\n",
    "from api_keys import g_key"
   ]
  },
  {
   "cell_type": "markdown",
   "metadata": {},
   "source": [
    "### Store Part I results into DataFrame\n",
    "* Load the csv exported in Part I to a DataFrame"
   ]
  },
  {
   "cell_type": "code",
   "execution_count": 2,
   "metadata": {
    "scrolled": true
   },
   "outputs": [
    {
     "data": {
      "text/html": [
       "<div>\n",
       "<style scoped>\n",
       "    .dataframe tbody tr th:only-of-type {\n",
       "        vertical-align: middle;\n",
       "    }\n",
       "\n",
       "    .dataframe tbody tr th {\n",
       "        vertical-align: top;\n",
       "    }\n",
       "\n",
       "    .dataframe thead th {\n",
       "        text-align: right;\n",
       "    }\n",
       "</style>\n",
       "<table border=\"1\" class=\"dataframe\">\n",
       "  <thead>\n",
       "    <tr style=\"text-align: right;\">\n",
       "      <th></th>\n",
       "      <th>City</th>\n",
       "      <th>Lat</th>\n",
       "      <th>Lng</th>\n",
       "      <th>Max Temp</th>\n",
       "      <th>Humidity</th>\n",
       "      <th>Cloudiness</th>\n",
       "      <th>Wind Speed</th>\n",
       "      <th>Country</th>\n",
       "      <th>Date</th>\n",
       "    </tr>\n",
       "  </thead>\n",
       "  <tbody>\n",
       "    <tr>\n",
       "      <th>0</th>\n",
       "      <td>Busselton</td>\n",
       "      <td>-33.6500</td>\n",
       "      <td>115.3333</td>\n",
       "      <td>54.10</td>\n",
       "      <td>90</td>\n",
       "      <td>75</td>\n",
       "      <td>4.85</td>\n",
       "      <td>AU</td>\n",
       "      <td>1666735745</td>\n",
       "    </tr>\n",
       "    <tr>\n",
       "      <th>1</th>\n",
       "      <td>Belgrade</td>\n",
       "      <td>44.8040</td>\n",
       "      <td>20.4651</td>\n",
       "      <td>54.43</td>\n",
       "      <td>100</td>\n",
       "      <td>0</td>\n",
       "      <td>2.30</td>\n",
       "      <td>RS</td>\n",
       "      <td>1666735610</td>\n",
       "    </tr>\n",
       "    <tr>\n",
       "      <th>2</th>\n",
       "      <td>Ribeira Grande</td>\n",
       "      <td>38.5167</td>\n",
       "      <td>-28.7000</td>\n",
       "      <td>61.77</td>\n",
       "      <td>74</td>\n",
       "      <td>85</td>\n",
       "      <td>3.00</td>\n",
       "      <td>PT</td>\n",
       "      <td>1666735615</td>\n",
       "    </tr>\n",
       "    <tr>\n",
       "      <th>3</th>\n",
       "      <td>Mareeba</td>\n",
       "      <td>-17.0000</td>\n",
       "      <td>145.4333</td>\n",
       "      <td>80.47</td>\n",
       "      <td>83</td>\n",
       "      <td>0</td>\n",
       "      <td>3.94</td>\n",
       "      <td>AU</td>\n",
       "      <td>1666735583</td>\n",
       "    </tr>\n",
       "    <tr>\n",
       "      <th>4</th>\n",
       "      <td>Erenhot</td>\n",
       "      <td>43.6475</td>\n",
       "      <td>111.9767</td>\n",
       "      <td>32.90</td>\n",
       "      <td>66</td>\n",
       "      <td>8</td>\n",
       "      <td>11.14</td>\n",
       "      <td>CN</td>\n",
       "      <td>1666735746</td>\n",
       "    </tr>\n",
       "  </tbody>\n",
       "</table>\n",
       "</div>"
      ],
      "text/plain": [
       "             City      Lat       Lng  Max Temp  Humidity  Cloudiness  \\\n",
       "0       Busselton -33.6500  115.3333     54.10        90          75   \n",
       "1        Belgrade  44.8040   20.4651     54.43       100           0   \n",
       "2  Ribeira Grande  38.5167  -28.7000     61.77        74          85   \n",
       "3         Mareeba -17.0000  145.4333     80.47        83           0   \n",
       "4         Erenhot  43.6475  111.9767     32.90        66           8   \n",
       "\n",
       "   Wind Speed Country        Date  \n",
       "0        4.85      AU  1666735745  \n",
       "1        2.30      RS  1666735610  \n",
       "2        3.00      PT  1666735615  \n",
       "3        3.94      AU  1666735583  \n",
       "4       11.14      CN  1666735746  "
      ]
     },
     "execution_count": 2,
     "metadata": {},
     "output_type": "execute_result"
    }
   ],
   "source": [
    "city_weather_df = pd.read_csv(\"output_data/cities.csv\")\n",
    "city_weather_df.head()"
   ]
  },
  {
   "cell_type": "code",
   "execution_count": 3,
   "metadata": {},
   "outputs": [
    {
     "data": {
      "text/plain": [
       "City          527\n",
       "Lat           527\n",
       "Lng           527\n",
       "Max Temp      527\n",
       "Humidity      527\n",
       "Cloudiness    527\n",
       "Wind Speed    527\n",
       "Country       525\n",
       "Date          527\n",
       "dtype: int64"
      ]
     },
     "execution_count": 3,
     "metadata": {},
     "output_type": "execute_result"
    }
   ],
   "source": [
    "city_weather_df.count()"
   ]
  },
  {
   "cell_type": "markdown",
   "metadata": {},
   "source": [
    "### Humidity Heatmap\n",
    "* Configure gmaps.\n",
    "* Use the Lat and Lng as locations and Humidity as the weight.\n",
    "* Add Heatmap layer to map."
   ]
  },
  {
   "cell_type": "code",
   "execution_count": 4,
   "metadata": {},
   "outputs": [],
   "source": [
    "gmaps.configure(api_key = g_key)\n",
    "lat_lng = city_weather_df[['Lat','Lng']]\n",
    "humidity = city_weather_df['Humidity'].astype(float)\n"
   ]
  },
  {
   "cell_type": "code",
   "execution_count": 5,
   "metadata": {},
   "outputs": [
    {
     "data": {
      "application/vnd.jupyter.widget-view+json": {
       "model_id": "867a0adb016941f49735d61a0c0af325",
       "version_major": 2,
       "version_minor": 0
      },
      "text/plain": [
       "Figure(layout=FigureLayout(height='420px'))"
      ]
     },
     "metadata": {},
     "output_type": "display_data"
    }
   ],
   "source": [
    "#create the heatmap\n",
    "\n",
    "fig = gmaps.figure()\n",
    "\n",
    "heat_layer = gmaps.heatmap_layer(lat_lng,weights=humidity,dissipating=False, max_intensity=100,\n",
    "                                 point_radius = 1)\n",
    "fig.add_layer(heat_layer)\n",
    "fig"
   ]
  },
  {
   "cell_type": "markdown",
   "metadata": {},
   "source": [
    "### Create new DataFrame fitting weather criteria\n",
    "* Narrow down the cities to fit weather conditions.\n",
    "* Drop any rows will null values."
   ]
  },
  {
   "cell_type": "code",
   "execution_count": 6,
   "metadata": {},
   "outputs": [
    {
     "data": {
      "text/plain": [
       "City          17\n",
       "Lat           17\n",
       "Lng           17\n",
       "Max Temp      17\n",
       "Humidity      17\n",
       "Cloudiness    17\n",
       "Wind Speed    17\n",
       "Country       17\n",
       "Date          17\n",
       "dtype: int64"
      ]
     },
     "execution_count": 6,
     "metadata": {},
     "output_type": "execute_result"
    }
   ],
   "source": [
    "#weather conditions:\n",
    "#1.max temp < 80 but > 70\n",
    "#2.wind speed < 10 mph\n",
    "#3.zero cloudiness\n",
    "#drop any rows that do not satisfy all three conditions\n",
    "\n",
    "perf_temp = city_weather_df.loc[(city_weather_df['Max Temp'] < 80)& \n",
    "                                (city_weather_df['Max Temp'] > 70)&\n",
    "                                (city_weather_df['Wind Speed'] < 10)&\n",
    "                                (city_weather_df['Cloudiness'] == 0)]\n",
    "\n",
    "perf_temp.count()"
   ]
  },
  {
   "cell_type": "code",
   "execution_count": 7,
   "metadata": {},
   "outputs": [
    {
     "data": {
      "text/html": [
       "<div>\n",
       "<style scoped>\n",
       "    .dataframe tbody tr th:only-of-type {\n",
       "        vertical-align: middle;\n",
       "    }\n",
       "\n",
       "    .dataframe tbody tr th {\n",
       "        vertical-align: top;\n",
       "    }\n",
       "\n",
       "    .dataframe thead th {\n",
       "        text-align: right;\n",
       "    }\n",
       "</style>\n",
       "<table border=\"1\" class=\"dataframe\">\n",
       "  <thead>\n",
       "    <tr style=\"text-align: right;\">\n",
       "      <th></th>\n",
       "      <th>City</th>\n",
       "      <th>Lat</th>\n",
       "      <th>Lng</th>\n",
       "      <th>Max Temp</th>\n",
       "      <th>Humidity</th>\n",
       "      <th>Cloudiness</th>\n",
       "      <th>Wind Speed</th>\n",
       "      <th>Country</th>\n",
       "      <th>Date</th>\n",
       "    </tr>\n",
       "  </thead>\n",
       "  <tbody>\n",
       "    <tr>\n",
       "      <th>11</th>\n",
       "      <td>Nālūt</td>\n",
       "      <td>30.3333</td>\n",
       "      <td>10.8500</td>\n",
       "      <td>70.11</td>\n",
       "      <td>26</td>\n",
       "      <td>0</td>\n",
       "      <td>7.27</td>\n",
       "      <td>LY</td>\n",
       "      <td>1666735747</td>\n",
       "    </tr>\n",
       "    <tr>\n",
       "      <th>28</th>\n",
       "      <td>Kiryat Gat</td>\n",
       "      <td>31.6100</td>\n",
       "      <td>34.7642</td>\n",
       "      <td>77.68</td>\n",
       "      <td>40</td>\n",
       "      <td>0</td>\n",
       "      <td>6.31</td>\n",
       "      <td>IL</td>\n",
       "      <td>1666735753</td>\n",
       "    </tr>\n",
       "    <tr>\n",
       "      <th>74</th>\n",
       "      <td>San Patricio</td>\n",
       "      <td>28.0170</td>\n",
       "      <td>-97.5169</td>\n",
       "      <td>78.75</td>\n",
       "      <td>20</td>\n",
       "      <td>0</td>\n",
       "      <td>8.97</td>\n",
       "      <td>US</td>\n",
       "      <td>1666735766</td>\n",
       "    </tr>\n",
       "    <tr>\n",
       "      <th>91</th>\n",
       "      <td>Dwārka</td>\n",
       "      <td>22.2394</td>\n",
       "      <td>68.9678</td>\n",
       "      <td>79.45</td>\n",
       "      <td>62</td>\n",
       "      <td>0</td>\n",
       "      <td>9.73</td>\n",
       "      <td>IN</td>\n",
       "      <td>1666735771</td>\n",
       "    </tr>\n",
       "    <tr>\n",
       "      <th>99</th>\n",
       "      <td>Nāwa</td>\n",
       "      <td>27.0167</td>\n",
       "      <td>75.0000</td>\n",
       "      <td>71.22</td>\n",
       "      <td>33</td>\n",
       "      <td>0</td>\n",
       "      <td>6.80</td>\n",
       "      <td>IN</td>\n",
       "      <td>1666735774</td>\n",
       "    </tr>\n",
       "  </tbody>\n",
       "</table>\n",
       "</div>"
      ],
      "text/plain": [
       "            City      Lat      Lng  Max Temp  Humidity  Cloudiness  \\\n",
       "11         Nālūt  30.3333  10.8500     70.11        26           0   \n",
       "28    Kiryat Gat  31.6100  34.7642     77.68        40           0   \n",
       "74  San Patricio  28.0170 -97.5169     78.75        20           0   \n",
       "91        Dwārka  22.2394  68.9678     79.45        62           0   \n",
       "99          Nāwa  27.0167  75.0000     71.22        33           0   \n",
       "\n",
       "    Wind Speed Country        Date  \n",
       "11        7.27      LY  1666735747  \n",
       "28        6.31      IL  1666735753  \n",
       "74        8.97      US  1666735766  \n",
       "91        9.73      IN  1666735771  \n",
       "99        6.80      IN  1666735774  "
      ]
     },
     "execution_count": 7,
     "metadata": {},
     "output_type": "execute_result"
    }
   ],
   "source": [
    "#drop rows with null values\n",
    "perf_temp = perf_temp.dropna(how='any')\n",
    "perf_temp.head()"
   ]
  },
  {
   "cell_type": "markdown",
   "metadata": {},
   "source": [
    "### Hotel Map\n",
    "* Store into variable named `hotel_df`.\n",
    "* Add a \"Hotel Name\" column to the DataFrame.\n",
    "* Set parameters to search for hotels with 5000 meters.\n",
    "* Hit the Google Places API for each city's coordinates.\n",
    "* Store the first Hotel result into the DataFrame.\n",
    "* Plot markers on top of the heatmap."
   ]
  },
  {
   "cell_type": "code",
   "execution_count": 8,
   "metadata": {},
   "outputs": [],
   "source": [
    "#add a hotel name column \n",
    "perf_temp['Hotel Name'] = ''\n"
   ]
  },
  {
   "cell_type": "code",
   "execution_count": 9,
   "metadata": {
    "scrolled": true
   },
   "outputs": [
    {
     "data": {
      "text/html": [
       "<div>\n",
       "<style scoped>\n",
       "    .dataframe tbody tr th:only-of-type {\n",
       "        vertical-align: middle;\n",
       "    }\n",
       "\n",
       "    .dataframe tbody tr th {\n",
       "        vertical-align: top;\n",
       "    }\n",
       "\n",
       "    .dataframe thead th {\n",
       "        text-align: right;\n",
       "    }\n",
       "</style>\n",
       "<table border=\"1\" class=\"dataframe\">\n",
       "  <thead>\n",
       "    <tr style=\"text-align: right;\">\n",
       "      <th></th>\n",
       "      <th>City</th>\n",
       "      <th>Lat</th>\n",
       "      <th>Lng</th>\n",
       "      <th>Max Temp</th>\n",
       "      <th>Humidity</th>\n",
       "      <th>Cloudiness</th>\n",
       "      <th>Wind Speed</th>\n",
       "      <th>Country</th>\n",
       "      <th>Date</th>\n",
       "      <th>Hotel Name</th>\n",
       "    </tr>\n",
       "  </thead>\n",
       "  <tbody>\n",
       "    <tr>\n",
       "      <th>11</th>\n",
       "      <td>Nālūt</td>\n",
       "      <td>30.3333</td>\n",
       "      <td>10.8500</td>\n",
       "      <td>70.11</td>\n",
       "      <td>26</td>\n",
       "      <td>0</td>\n",
       "      <td>7.27</td>\n",
       "      <td>LY</td>\n",
       "      <td>1666735747</td>\n",
       "      <td></td>\n",
       "    </tr>\n",
       "    <tr>\n",
       "      <th>28</th>\n",
       "      <td>Kiryat Gat</td>\n",
       "      <td>31.6100</td>\n",
       "      <td>34.7642</td>\n",
       "      <td>77.68</td>\n",
       "      <td>40</td>\n",
       "      <td>0</td>\n",
       "      <td>6.31</td>\n",
       "      <td>IL</td>\n",
       "      <td>1666735753</td>\n",
       "      <td></td>\n",
       "    </tr>\n",
       "    <tr>\n",
       "      <th>74</th>\n",
       "      <td>San Patricio</td>\n",
       "      <td>28.0170</td>\n",
       "      <td>-97.5169</td>\n",
       "      <td>78.75</td>\n",
       "      <td>20</td>\n",
       "      <td>0</td>\n",
       "      <td>8.97</td>\n",
       "      <td>US</td>\n",
       "      <td>1666735766</td>\n",
       "      <td></td>\n",
       "    </tr>\n",
       "    <tr>\n",
       "      <th>91</th>\n",
       "      <td>Dwārka</td>\n",
       "      <td>22.2394</td>\n",
       "      <td>68.9678</td>\n",
       "      <td>79.45</td>\n",
       "      <td>62</td>\n",
       "      <td>0</td>\n",
       "      <td>9.73</td>\n",
       "      <td>IN</td>\n",
       "      <td>1666735771</td>\n",
       "      <td></td>\n",
       "    </tr>\n",
       "    <tr>\n",
       "      <th>99</th>\n",
       "      <td>Nāwa</td>\n",
       "      <td>27.0167</td>\n",
       "      <td>75.0000</td>\n",
       "      <td>71.22</td>\n",
       "      <td>33</td>\n",
       "      <td>0</td>\n",
       "      <td>6.80</td>\n",
       "      <td>IN</td>\n",
       "      <td>1666735774</td>\n",
       "      <td></td>\n",
       "    </tr>\n",
       "  </tbody>\n",
       "</table>\n",
       "</div>"
      ],
      "text/plain": [
       "            City      Lat      Lng  Max Temp  Humidity  Cloudiness  \\\n",
       "11         Nālūt  30.3333  10.8500     70.11        26           0   \n",
       "28    Kiryat Gat  31.6100  34.7642     77.68        40           0   \n",
       "74  San Patricio  28.0170 -97.5169     78.75        20           0   \n",
       "91        Dwārka  22.2394  68.9678     79.45        62           0   \n",
       "99          Nāwa  27.0167  75.0000     71.22        33           0   \n",
       "\n",
       "    Wind Speed Country        Date Hotel Name  \n",
       "11        7.27      LY  1666735747             \n",
       "28        6.31      IL  1666735753             \n",
       "74        8.97      US  1666735766             \n",
       "91        9.73      IN  1666735771             \n",
       "99        6.80      IN  1666735774             "
      ]
     },
     "execution_count": 9,
     "metadata": {},
     "output_type": "execute_result"
    }
   ],
   "source": [
    "perf_temp.head()"
   ]
  },
  {
   "cell_type": "code",
   "execution_count": 10,
   "metadata": {},
   "outputs": [],
   "source": [
    "#smaller sample size to avoid overuse of the Google Maps API call limits\n",
    "\n",
    "# perf_temp_reduced = perf_temp.iloc[0:10,:]\n",
    "# perf_temp_reduced"
   ]
  },
  {
   "cell_type": "code",
   "execution_count": 11,
   "metadata": {},
   "outputs": [],
   "source": [
    "##for each city, use Google Places API to find first hotel located within\n",
    "#5,000 meters of the coordinates\n",
    "\n",
    "#look at airport ratings lesson for instruction, and use iterrows\n",
    "# set up a parameters dictionary\n",
    "params = {\n",
    "    \"radius\": 5000,\n",
    "    \"types\": 'lodging',\n",
    "    \"keyword\": \"Hotel\",\n",
    "    \"key\": g_key\n",
    "}\n",
    "# base url\n",
    "base_url = \"https://maps.googleapis.com/maps/api/place/nearbysearch/json\"\n",
    "\n",
    "for index, row in perf_temp.iterrows():\n",
    "    lat= row['Lat']\n",
    "    lng= row['Lng']\n",
    "    params['location'] = f'{lat},{lng}'\n",
    "    base_url = \"https://maps.googleapis.com/maps/api/place/nearbysearch/json\"\n",
    "    \n",
    "    hotel_name = requests.get(base_url, params=params).json()\n",
    "    try:\n",
    "        perf_temp.loc[index,'Hotel Name'] = hotel_name['results'][0]['name']\n",
    "    except:\n",
    "        perf_temp.loc[index,'Hotel Name'] = 'No Hotel'"
   ]
  },
  {
   "cell_type": "code",
   "execution_count": 12,
   "metadata": {},
   "outputs": [],
   "source": [
    "# perf_temp_reduced"
   ]
  },
  {
   "cell_type": "code",
   "execution_count": 13,
   "metadata": {},
   "outputs": [],
   "source": [
    "# NOTE: Do not change any of the code in this cell\n",
    "\n",
    "# Using the template add the hotel marks to the heatmap\n",
    "info_box_template = \"\"\"\n",
    "<dl>\n",
    "<dt>Name</dt><dd>{Hotel Name}</dd>\n",
    "<dt>City</dt><dd>{City}</dd>\n",
    "<dt>Country</dt><dd>{Country}</dd>\n",
    "</dl>\n",
    "\"\"\"\n",
    "# Store the DataFrame Row\n",
    "# NOTE: be sure to update with your DataFrame name\n",
    "hotel_info = [info_box_template.format(**row) for index, row in perf_temp.iterrows()]\n",
    "locations = perf_temp[[\"Lat\", \"Lng\"]]\n",
    "# locations"
   ]
  },
  {
   "cell_type": "code",
   "execution_count": 14,
   "metadata": {},
   "outputs": [
    {
     "data": {
      "application/vnd.jupyter.widget-view+json": {
       "model_id": "026527c4b74942df9ce3458909c7e3b5",
       "version_major": 2,
       "version_minor": 0
      },
      "text/plain": [
       "Figure(layout=FigureLayout(height='420px'))"
      ]
     },
     "metadata": {},
     "output_type": "display_data"
    }
   ],
   "source": [
    "#create the heatmap\n",
    "hotel_fig = gmaps.figure()\n",
    "# heat_layer = gmaps.heatmap_layer(lat_lng,weights=humidity,dissipating=False, max_intensity=100,\n",
    "#                                  point_radius = 1)\n",
    "hotel_fig.add_layer(heat_layer)\n",
    "# Add marker layer ontop of heat map\n",
    "marker_layer = gmaps.marker_layer(locations,info_box_content=hotel_info)\n",
    "hotel_fig.add_layer(marker_layer)\n",
    "# Display figure\n",
    "hotel_fig"
   ]
  },
  {
   "cell_type": "code",
   "execution_count": null,
   "metadata": {},
   "outputs": [],
   "source": []
  }
 ],
 "metadata": {
  "kernelspec": {
   "display_name": "PythonData",
   "language": "python",
   "name": "pythondata"
  },
  "language_info": {
   "codemirror_mode": {
    "name": "ipython",
    "version": 3
   },
   "file_extension": ".py",
   "mimetype": "text/x-python",
   "name": "python",
   "nbconvert_exporter": "python",
   "pygments_lexer": "ipython3",
   "version": "3.7.7"
  },
  "latex_envs": {
   "LaTeX_envs_menu_present": true,
   "autoclose": false,
   "autocomplete": true,
   "bibliofile": "biblio.bib",
   "cite_by": "apalike",
   "current_citInitial": 1,
   "eqLabelWithNumbers": true,
   "eqNumInitial": 1,
   "hotkeys": {
    "equation": "Ctrl-E",
    "itemize": "Ctrl-I"
   },
   "labels_anchors": false,
   "latex_user_defs": false,
   "report_style_numbering": false,
   "user_envs_cfg": false
  }
 },
 "nbformat": 4,
 "nbformat_minor": 4
}
